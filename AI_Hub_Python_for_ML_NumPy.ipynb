{
  "nbformat": 4,
  "nbformat_minor": 0,
  "metadata": {
    "colab": {
      "name": "AI_Hub_Python_for_ML_NumPy.ipynb",
      "provenance": [],
      "collapsed_sections": [],
      "include_colab_link": true
    },
    "kernelspec": {
      "name": "python3",
      "display_name": "Python 3"
    },
    "language_info": {
      "name": "python"
    }
  },
  "cells": [
    {
      "cell_type": "markdown",
      "metadata": {
        "id": "view-in-github",
        "colab_type": "text"
      },
      "source": [
        "<a href=\"https://colab.research.google.com/github/zeynebe/data-science-ipython-notebooks/blob/master/AI_Hub_Python_for_ML_NumPy.ipynb\" target=\"_parent\"><img src=\"https://colab.research.google.com/assets/colab-badge.svg\" alt=\"Open In Colab\"/></a>"
      ]
    },
    {
      "cell_type": "markdown",
      "source": [
        "#Chapter 4 \n",
        "##NumPy\n",
        "\n",
        "Rachel is very happy with the way you cleaned and structured the employee data last time, but she wants to take things one step further. The sales team wants to track the performance of the employees not only by the revenue they generated, but also taking the number of calls and the average deal size into account. For that, Rachel wants you to create a software for reporting. To be able to perform calculations on the data you decide that creating a data structure using Numpy will be best."
      ],
      "metadata": {
        "id": "QkcKMNzWAbg7"
      }
    },
    {
      "cell_type": "markdown",
      "source": [
        "### Get the data\n",
        "\n",
        "First, you need to get the data. You created lists with the relevant information in the last chapter.\n",
        "\n",
        "📌 Copy and paste the lists \"names\", \"call_numbers\", \"average_deal_size\", and \"revenues\" you created in chapter 3 and assign them to variables."
      ],
      "metadata": {
        "id": "LWlWyFTek4PO"
      }
    },
    {
      "cell_type": "code",
      "source": [
        "#Copy the lists \"names\", \"call_numbers\", \"average_deal_size\", and \"revenues\" from chapter 3\n",
        "names = ['Ben', 'Omer', 'Karen', 'Celine', 'Sue', 'Bora', 'Rose', 'Ellen', 'Bob', 'Taylor,', 'Jude']\n",
        "call_numbers = [300, 10, 500, 70, 100, 100, 600, 800, 200, 450, 80]\n",
        "average_deal_sizes = [8, 6, 24, 32, 5, 25, 25, 40, 15, 10, 12]\n",
        "revenues = [2400, 60, 12000, 2275, 500, 770, 4000, 6000, 800, 1200, 500]"
      ],
      "metadata": {
        "id": "XtkCWxs4lGyX"
      },
      "execution_count": 28,
      "outputs": []
    },
    {
      "cell_type": "markdown",
      "source": [
        "### Importing NumPy\n",
        "\n",
        "You plan to create a data structure using NumPy.\n",
        "\n",
        "📌 Import the NumPy library as."
      ],
      "metadata": {
        "id": "Ge6Rw3bkA1nq"
      }
    },
    {
      "cell_type": "code",
      "execution_count": 29,
      "metadata": {
        "id": "bkJKAysX41P0"
      },
      "outputs": [],
      "source": [
        "#Import the NumPy library\n",
        "import numpy as np"
      ]
    },
    {
      "cell_type": "markdown",
      "source": [
        "###Creating an initial (base) arrays\n",
        "\n",
        "Next, you need to prepare an array in which you will store the values. The initial array will be empty. Since it will hold numerical data, the data type should be integer.\n",
        "\n",
        "📌 Create an empty array using .array(). \n",
        "\n",
        "📌 Use the *dtype* parameter to specify the data type."
      ],
      "metadata": {
        "id": "V_RyXQRPDKDX"
      }
    },
    {
      "cell_type": "code",
      "source": [
        "#Create an empty array with the data type integer\n",
        "data = np.array([], dtype=int)"
      ],
      "metadata": {
        "id": "rhn8VLL5F1io"
      },
      "execution_count": 30,
      "outputs": []
    },
    {
      "cell_type": "markdown",
      "source": [
        "###Functions to add the data\n",
        "\n",
        "Now that your empty array is ready, you need to transfer the data from the lists to the array. You create 2 functions functions for this. \n",
        "\n",
        "1. append_names function: A function that takes the \"names\" list and adds the index of each name to the \"data\" array.\n",
        "\n",
        "  📌 Use a for loop and the .append() method for the indexes.\n",
        "\n",
        "2. append_performance_measures function: A function that takes one of the remaining lists to add the sales performance data like number of calls, average deal size and revenue to the \"data\" array.\n",
        "\n",
        "  📌 Use the .append() method."
      ],
      "metadata": {
        "id": "RTg7VcXco1pB"
      }
    },
    {
      "cell_type": "code",
      "source": [
        "#Define the append_names function\n",
        "def append_names(names_list):\n",
        "  global data\n",
        "  for i in names_list:\n",
        "    data = np.append(data, names.index(i))"
      ],
      "metadata": {
        "id": "aFt18Yn_Ai48"
      },
      "execution_count": 31,
      "outputs": []
    },
    {
      "cell_type": "code",
      "source": [
        "#Define the append_performance_measures function\n",
        "def append_performance_measures(feature_list):\n",
        "  global data\n",
        "  data = np.append(data, feature_list)"
      ],
      "metadata": {
        "id": "XZ0xJEnqUCt6"
      },
      "execution_count": 32,
      "outputs": []
    },
    {
      "cell_type": "markdown",
      "source": [
        "Call the functions to add the data to the array and print the array and its shape to see the result.\n",
        "\n",
        "📌 Use the .shape() method."
      ],
      "metadata": {
        "id": "JEQ_Il_JFPJR"
      }
    },
    {
      "cell_type": "code",
      "source": [
        "#Use the append_names and append_sales_performance_measures to add the data\n",
        "append_names(names)\n",
        "append_performance_measures(call_numbers)\n",
        "append_performance_measures(average_deal_sizes)\n",
        "append_performance_measures(revenues)\n",
        "#Print the array and its shape to see the result\n",
        "print(data)\n",
        "print(data.shape)"
      ],
      "metadata": {
        "id": "eknqraz75Qj9",
        "colab": {
          "base_uri": "https://localhost:8080/"
        },
        "outputId": "52aba6b5-daa3-4495-a23d-f6dbfbf3d4ef"
      },
      "execution_count": 33,
      "outputs": [
        {
          "output_type": "stream",
          "name": "stdout",
          "text": [
            "[    0     1     2     3     4     5     6     7     8     9    10   300\n",
            "    10   500    70   100   100   600   800   200   450    80     8     6\n",
            "    24    32     5    25    25    40    15    10    12  2400    60 12000\n",
            "  2275   500   770  4000  6000   800  1200   500]\n",
            "(44,)\n"
          ]
        }
      ]
    },
    {
      "cell_type": "markdown",
      "source": [
        "###Reshape the array\n",
        "\n",
        "But like this, your array is not very structured. You need a 2D-array to be able to work better with it. The original data was 4 lists each with 11 values. So, the \"data\" array should have 4 rows and 11 columns. Print the result afterwards.\n",
        "\n",
        "📌 Use the .reshape() method to rearrange the values in the array.\n"
      ],
      "metadata": {
        "id": "PrHY03X6C94s"
      }
    },
    {
      "cell_type": "code",
      "source": [
        "#Use the .reshape() method to change the array structure to 4 rows and 11 columns\n",
        "data = data.reshape(4,11)\n",
        "\n",
        "#Print the resulting array and its shape\n",
        "print(data)\n",
        "print(data.shape)"
      ],
      "metadata": {
        "id": "__2N4NZB5k3Q",
        "colab": {
          "base_uri": "https://localhost:8080/"
        },
        "outputId": "47d18404-9501-4dd3-803c-dcf16a30a7f9"
      },
      "execution_count": 36,
      "outputs": [
        {
          "output_type": "stream",
          "name": "stdout",
          "text": [
            "[[    0     1     2     3     4     5     6     7     8     9    10]\n",
            " [  300    10   500    70   100   100   600   800   200   450    80]\n",
            " [    8     6    24    32     5    25    25    40    15    10    12]\n",
            " [ 2400    60 12000  2275   500   770  4000  6000   800  1200   500]]\n",
            "(4, 11)\n"
          ]
        }
      ]
    },
    {
      "cell_type": "markdown",
      "source": [
        "###Accessing values\n",
        "\n",
        "Inside the array you can access the values in different ways. \n",
        "\n",
        "1. Print each row separately. \n",
        "\n",
        "  📌 Write down the array name and the index of the row you want to access.\n"
      ],
      "metadata": {
        "id": "-JgrV_l7MIwQ"
      }
    },
    {
      "cell_type": "code",
      "source": [
        "#Print the name indexes\n",
        "print(data[0])"
      ],
      "metadata": {
        "id": "7IwKRbzORnjA",
        "colab": {
          "base_uri": "https://localhost:8080/"
        },
        "outputId": "7506511b-9141-4197-8834-5fad07cfdc95"
      },
      "execution_count": 8,
      "outputs": [
        {
          "output_type": "stream",
          "name": "stdout",
          "text": [
            "[ 0  1  2  3  4  5  6  7  8  9 10]\n"
          ]
        }
      ]
    },
    {
      "cell_type": "code",
      "source": [
        "#Print the number of calls\n",
        "print(data[1])"
      ],
      "metadata": {
        "id": "4TZ-6AI3AJ3k",
        "colab": {
          "base_uri": "https://localhost:8080/"
        },
        "outputId": "dd2648bb-1325-4f97-bdf3-c80fde920891"
      },
      "execution_count": 9,
      "outputs": [
        {
          "output_type": "stream",
          "name": "stdout",
          "text": [
            "[300  10 500  70 100 100 600 800 200 450  80]\n"
          ]
        }
      ]
    },
    {
      "cell_type": "code",
      "source": [
        "#Print the average deal sizes\n"
      ],
      "metadata": {
        "id": "6AwKKNcVP-Z4"
      },
      "execution_count": 10,
      "outputs": []
    },
    {
      "cell_type": "code",
      "source": [
        "#Print the revenues \n"
      ],
      "metadata": {
        "id": "A0XcKZpKQRnI"
      },
      "execution_count": 11,
      "outputs": []
    },
    {
      "cell_type": "markdown",
      "source": [
        "2. Print a specific value.\n",
        "\n",
        "  📌 Give the index of the row and the column of the value you want to access.\n",
        "  For example, to get the revenue generated by Ellen, specify the value in the 3rd row and 7th column."
      ],
      "metadata": {
        "id": "vwggtzzeAuGX"
      }
    },
    {
      "cell_type": "code",
      "source": [
        "#Print the revenue generated by Ellen\n",
        "print(data[3,7])"
      ],
      "metadata": {
        "id": "qkHN7yCiSs7z",
        "colab": {
          "base_uri": "https://localhost:8080/"
        },
        "outputId": "5c6dbabc-038a-4051-f652-843d9be4baaf"
      },
      "execution_count": 12,
      "outputs": [
        {
          "output_type": "stream",
          "name": "stdout",
          "text": [
            "6000\n"
          ]
        }
      ]
    },
    {
      "cell_type": "markdown",
      "source": [
        "###Analyzing the data\n",
        "\n",
        "Great, your array is ready!\n",
        "\n",
        "The sales team has a formula that they use to calculate the performance score of an employee.\n",
        "\n",
        "\n",
        "\\begin{align}\n",
        "        \\text{Performance} = \\frac{\\text{Average deal size x Revenue}}{\\text{Number of calls}}\n",
        "    \\end{align}\n",
        "\n",
        "\n",
        "📌 Create a function called “calculate_performance” to implement this formula. It should take the employee name as an input."
      ],
      "metadata": {
        "id": "HpcNsSjVVJ76"
      }
    },
    {
      "cell_type": "code",
      "source": [
        "#Define the function calculate_performance\n",
        "def calculate_performance(employee_name):\n",
        "  idx = names.index(employee_name)\n",
        "\n",
        "  number_of_calls = data[1, idx]\n",
        "  avg_deal_size = data[2, idx]\n",
        "  revenue = data[3, idx]\n",
        "\n",
        "  score = (avg_deal_size*revenue)/number_of_calls\n",
        "\n",
        "  return score"
      ],
      "metadata": {
        "id": "UoB-hSG02lmJ"
      },
      "execution_count": 13,
      "outputs": []
    },
    {
      "cell_type": "markdown",
      "source": [
        "###Try it out\n",
        "\n",
        "Let's check Ellen's performance score and print the result."
      ],
      "metadata": {
        "id": "BJp7Qgxv5cVX"
      }
    },
    {
      "cell_type": "code",
      "source": [
        "#Use the calculate performance function to print Ellen's performance\n",
        "print(calculate_performance(\"Ellen\"))"
      ],
      "metadata": {
        "id": "kd2J09dg6n4i",
        "colab": {
          "base_uri": "https://localhost:8080/"
        },
        "outputId": "4f7ffe5d-446f-4256-8981-cfc8b3da145b"
      },
      "execution_count": 14,
      "outputs": [
        {
          "output_type": "stream",
          "name": "stdout",
          "text": [
            "300.0\n"
          ]
        }
      ]
    },
    {
      "cell_type": "markdown",
      "source": [
        "###Calculate the performance of each employee\n",
        "Now you need to calculate the performance score of each employee and add these scores to a list.\n",
        "\n",
        "📌 Create an empty list \"performance_scores\" to hold the scores.\n",
        "\n",
        "📌 Use a for loop to convert the scores into integer type data and append it to the list \"sperformance_scores\"."
      ],
      "metadata": {
        "id": "4zUQIn2s7wwy"
      }
    },
    {
      "cell_type": "code",
      "source": [
        "#Calculate the performance of each employee\n",
        "performance_scores = []\n",
        "for name in names:\n",
        "  score = int(calculate_performance(name))\n",
        "  performance_scores.append(score)"
      ],
      "metadata": {
        "id": "xTroGqo745AO"
      },
      "execution_count": 15,
      "outputs": []
    },
    {
      "cell_type": "markdown",
      "source": [
        "###Add the scores to the \"data\" array\n",
        "\n",
        "Next, you need to add the scores to your \"data\" array and print the result.\n",
        "\n",
        "📌 Use the .concatenate() method to add the \"performance_scores\" list to the \"data\" array. "
      ],
      "metadata": {
        "id": "JEjPMpP7FvOw"
      }
    },
    {
      "cell_type": "code",
      "source": [
        "#Add the \"performance_scores\" list to the \"data\" array BURADA axis=0 HORİZONTAL EKLEME için\n",
        "data = np.concatenate((data, [performance_scores]), axis=0)\n",
        "\n",
        "#Print the resulting array\n",
        "print(data)"
      ],
      "metadata": {
        "id": "zm4Zbzl9-1n-",
        "colab": {
          "base_uri": "https://localhost:8080/"
        },
        "outputId": "ca326d14-316d-455d-ebfa-1cd27c3d1d7b"
      },
      "execution_count": 43,
      "outputs": [
        {
          "output_type": "stream",
          "name": "stdout",
          "text": [
            "[[    0     1     2     3     4     5     6     7     8     9    10]\n",
            " [  300    10   500    70   100   100   600   800   200   450    80]\n",
            " [    8     6    24    32     5    25    25    40    15    10    12]\n",
            " [ 2400    60 12000  2275   500   770  4000  6000   800  1200   500]\n",
            " [   64    36   576  1040    25   192   166   300    60    26    75]]\n"
          ]
        }
      ]
    },
    {
      "cell_type": "markdown",
      "source": [
        "###Find out the best and worst performing employees\n",
        "\n",
        "Finally, you need to determine the best and worst performing employees.\n",
        "\n",
        "📌 Use the .argmax() and .argmin() methods to find the index of the best and worst performing employees."
      ],
      "metadata": {
        "id": "oWMMtqfDUZVs"
      }
    },
    {
      "cell_type": "code",
      "source": [
        "#Use .argmax() and .argmin() methods to determine the best and worst performing employees\n",
        "idx_best = np.argmax(data[4])\n",
        "idx_worst = np.argmin(data[4])\n",
        "\n",
        "#Print out the results\n",
        "print(f\"Best employees: {names[idx_best]}\")\n",
        "print(f\"worst employees: {names[idx_worst]}\")"
      ],
      "metadata": {
        "id": "58fNLhRsQ18I",
        "colab": {
          "base_uri": "https://localhost:8080/",
          "height": 222
        },
        "outputId": "0c3eb8c1-14fe-46fb-e2a4-dcbeae2a90ee"
      },
      "execution_count": 44,
      "outputs": [
        {
          "output_type": "error",
          "ename": "IndexError",
          "evalue": "ignored",
          "traceback": [
            "\u001b[0;31m---------------------------------------------------------------------------\u001b[0m",
            "\u001b[0;31mIndexError\u001b[0m                                Traceback (most recent call last)",
            "\u001b[0;32m<ipython-input-44-368fffb18e71>\u001b[0m in \u001b[0;36m<module>\u001b[0;34m\u001b[0m\n\u001b[1;32m      4\u001b[0m \u001b[0;34m\u001b[0m\u001b[0m\n\u001b[1;32m      5\u001b[0m \u001b[0;31m#Print out the results\u001b[0m\u001b[0;34m\u001b[0m\u001b[0;34m\u001b[0m\u001b[0;34m\u001b[0m\u001b[0m\n\u001b[0;32m----> 6\u001b[0;31m \u001b[0mprint\u001b[0m\u001b[0;34m(\u001b[0m\u001b[0;34mf\"Best employees: {names[idx_best]}\"\u001b[0m\u001b[0;34m)\u001b[0m\u001b[0;34m\u001b[0m\u001b[0;34m\u001b[0m\u001b[0m\n\u001b[0m\u001b[1;32m      7\u001b[0m \u001b[0mprint\u001b[0m\u001b[0;34m(\u001b[0m\u001b[0;34mf\"worst employees: {names[idx_worst]}\"\u001b[0m\u001b[0;34m)\u001b[0m\u001b[0;34m\u001b[0m\u001b[0;34m\u001b[0m\u001b[0m\n",
            "\u001b[0;31mIndexError\u001b[0m: list index out of range"
          ]
        }
      ]
    },
    {
      "cell_type": "code",
      "source": [
        "shopping_list = [2, \"banana\", 2, \"tomato\", 12, \"eggs\", 1, \"cereal\"]\n",
        "shopping_array = np.array(shopping_list)\n",
        "print(shopping_array)"
      ],
      "metadata": {
        "colab": {
          "base_uri": "https://localhost:8080/"
        },
        "id": "TC1lsdfupxXr",
        "outputId": "35974a0e-c25f-45a4-8af2-99659d67b096"
      },
      "execution_count": 18,
      "outputs": [
        {
          "output_type": "stream",
          "name": "stdout",
          "text": [
            "['2' 'banana' '2' 'tomato' '12' 'eggs' '1' 'cereal']\n"
          ]
        }
      ]
    },
    {
      "cell_type": "code",
      "source": [
        "array1 = np.array([1,4,8,6,2])\n",
        "array2 = np.array([[11,44,88,66,22], \n",
        "                  [22,10,47,60,5]])\n",
        "array = np.array([array1.sum(), array2.ndim, array2.size,array1.argmax(), array2.argmin()])\n",
        "print(array)"
      ],
      "metadata": {
        "colab": {
          "base_uri": "https://localhost:8080/"
        },
        "id": "ToLJlRzhpxPb",
        "outputId": "5b3e8a3a-1c47-409a-d291-6dd03746f2bc"
      },
      "execution_count": 38,
      "outputs": [
        {
          "output_type": "stream",
          "name": "stdout",
          "text": [
            "[21  2 10  2  9]\n"
          ]
        }
      ]
    },
    {
      "cell_type": "code",
      "source": [
        "empty_array = np.array([], dtype = int)\n",
        "data = np.array([[0, 1, 2, 3, 4, 5, 6, 7, 8, 9, 10,],\n",
        "                 [300, 10, 500, 70, 100, 100, 600, 800, 200, 450, 80],\n",
        "                 [8, 6, 24, 32, 5, 25, 25, 40, 15, 10, 12],\n",
        "                 [2400, 60, 12000, 2275, 500, 770, 4000, 6000, 800, 1200, 500]])\n",
        "\n",
        "filled_array = np.append(empty_array, [data[3,1],data[2,8],data[0,4],data[1,10],data[0,9]])\n",
        "print(filled_array)"
      ],
      "metadata": {
        "colab": {
          "base_uri": "https://localhost:8080/"
        },
        "id": "WyCk3y4upxMp",
        "outputId": "f7fdd180-90a5-462d-fb26-ae112666babe"
      },
      "execution_count": 39,
      "outputs": [
        {
          "output_type": "stream",
          "name": "stdout",
          "text": [
            "[60 15  4 80  9]\n"
          ]
        }
      ]
    },
    {
      "cell_type": "code",
      "source": [
        "names = [\"ben\", \"omer\", \"karen\"]\n",
        "revenues = [2400, 60, 12000]\n",
        "\n",
        "names_array = np.array([names])\n",
        "\n",
        "data = np.concatenate((names_array,revenues), axis = 0)\n",
        "print(data)"
      ],
      "metadata": {
        "colab": {
          "base_uri": "https://localhost:8080/",
          "height": 276
        },
        "id": "-iTVrqb6pxJ8",
        "outputId": "891389ac-f603-4128-93b0-f2248260d657"
      },
      "execution_count": 40,
      "outputs": [
        {
          "output_type": "error",
          "ename": "ValueError",
          "evalue": "ignored",
          "traceback": [
            "\u001b[0;31m---------------------------------------------------------------------------\u001b[0m",
            "\u001b[0;31mValueError\u001b[0m                                Traceback (most recent call last)",
            "\u001b[0;32m<ipython-input-40-6d201203b03c>\u001b[0m in \u001b[0;36m<module>\u001b[0;34m\u001b[0m\n\u001b[1;32m      4\u001b[0m \u001b[0mnames_array\u001b[0m \u001b[0;34m=\u001b[0m \u001b[0mnp\u001b[0m\u001b[0;34m.\u001b[0m\u001b[0marray\u001b[0m\u001b[0;34m(\u001b[0m\u001b[0;34m[\u001b[0m\u001b[0mnames\u001b[0m\u001b[0;34m]\u001b[0m\u001b[0;34m)\u001b[0m\u001b[0;34m\u001b[0m\u001b[0;34m\u001b[0m\u001b[0m\n\u001b[1;32m      5\u001b[0m \u001b[0;34m\u001b[0m\u001b[0m\n\u001b[0;32m----> 6\u001b[0;31m \u001b[0mdata\u001b[0m \u001b[0;34m=\u001b[0m \u001b[0mnp\u001b[0m\u001b[0;34m.\u001b[0m\u001b[0mconcatenate\u001b[0m\u001b[0;34m(\u001b[0m\u001b[0;34m(\u001b[0m\u001b[0mnames_array\u001b[0m\u001b[0;34m,\u001b[0m \u001b[0mrevenues\u001b[0m\u001b[0;34m)\u001b[0m\u001b[0;34m,\u001b[0m \u001b[0maxis\u001b[0m \u001b[0;34m=\u001b[0m \u001b[0;36m0\u001b[0m\u001b[0;34m)\u001b[0m\u001b[0;34m\u001b[0m\u001b[0;34m\u001b[0m\u001b[0m\n\u001b[0m\u001b[1;32m      7\u001b[0m \u001b[0mprint\u001b[0m\u001b[0;34m(\u001b[0m\u001b[0mdata\u001b[0m\u001b[0;34m)\u001b[0m\u001b[0;34m\u001b[0m\u001b[0;34m\u001b[0m\u001b[0m\n",
            "\u001b[0;32m<__array_function__ internals>\u001b[0m in \u001b[0;36mconcatenate\u001b[0;34m(*args, **kwargs)\u001b[0m\n",
            "\u001b[0;31mValueError\u001b[0m: all the input arrays must have same number of dimensions, but the array at index 0 has 2 dimension(s) and the array at index 1 has 1 dimension(s)"
          ]
        }
      ]
    },
    {
      "cell_type": "code",
      "source": [],
      "metadata": {
        "id": "EoHvT0ePpxGv"
      },
      "execution_count": 18,
      "outputs": []
    }
  ]
}